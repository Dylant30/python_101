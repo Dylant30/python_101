{
 "cells": [
  {
   "cell_type": "markdown",
   "metadata": {},
   "source": [
    "### Printing a message"
   ]
  },
  {
   "cell_type": "markdown",
   "metadata": {},
   "source": [
    "The print() function will display the number/texts within the parenthesis. This is used to display the outputs of what the computer has processed."
   ]
  },
  {
   "cell_type": "code",
   "execution_count": null,
   "metadata": {
    "scrolled": true
   },
   "outputs": [],
   "source": [
    "print(\"Hello World!\")"
   ]
  },
  {
   "cell_type": "markdown",
   "metadata": {},
   "source": [
    "### Introducing Strings"
   ]
  },
  {
   "cell_type": "markdown",
   "metadata": {},
   "source": [
    "Strings are an array of characters. In python, a string has to be entered with inverted commas, and it will be displayed in orange/red in jupyter notebook. Both single and double inverted commas work for python."
   ]
  },
  {
   "cell_type": "code",
   "execution_count": null,
   "metadata": {},
   "outputs": [],
   "source": [
    "\"word\""
   ]
  },
  {
   "cell_type": "code",
   "execution_count": null,
   "metadata": {
    "scrolled": true
   },
   "outputs": [],
   "source": [
    "'This sentence is a string'"
   ]
  },
  {
   "cell_type": "markdown",
   "metadata": {},
   "source": [
    "### Introducing Numbers"
   ]
  },
  {
   "cell_type": "markdown",
   "metadata": {},
   "source": [
    "Needs little introduction. A number value is a number that is displayed in green text. Mathematical operations can be performed on them. "
   ]
  },
  {
   "cell_type": "code",
   "execution_count": null,
   "metadata": {},
   "outputs": [],
   "source": [
    "3 + 3 * 3"
   ]
  },
  {
   "cell_type": "markdown",
   "metadata": {},
   "source": [
    "True or False operations"
   ]
  },
  {
   "cell_type": "code",
   "execution_count": null,
   "metadata": {},
   "outputs": [],
   "source": [
    "3>4"
   ]
  },
  {
   "cell_type": "code",
   "execution_count": null,
   "metadata": {},
   "outputs": [],
   "source": [
    "5 >= 5"
   ]
  },
  {
   "cell_type": "code",
   "execution_count": null,
   "metadata": {},
   "outputs": [],
   "source": [
    "4 != 3"
   ]
  },
  {
   "cell_type": "code",
   "execution_count": null,
   "metadata": {},
   "outputs": [],
   "source": [
    "22 == '22'"
   ]
  },
  {
   "cell_type": "markdown",
   "metadata": {},
   "source": [
    "A number, if surrounded by the inverted commas, will be a string. Mathematical operations cannot be performed on strings"
   ]
  },
  {
   "cell_type": "code",
   "execution_count": null,
   "metadata": {
    "scrolled": false
   },
   "outputs": [],
   "source": [
    "\"3\"/\"3\""
   ]
  },
  {
   "cell_type": "markdown",
   "metadata": {},
   "source": [
    "### Introducing Variables"
   ]
  },
  {
   "cell_type": "markdown",
   "metadata": {},
   "source": [
    "Variables are containers for storing data values. You could assign a number, string, list, tables or functions to it"
   ]
  },
  {
   "cell_type": "code",
   "execution_count": null,
   "metadata": {},
   "outputs": [],
   "source": [
    "x = 2\n",
    "x = x + 3\n",
    "x = x + 4"
   ]
  },
  {
   "cell_type": "code",
   "execution_count": null,
   "metadata": {},
   "outputs": [],
   "source": [
    "print(x)"
   ]
  },
  {
   "cell_type": "markdown",
   "metadata": {},
   "source": [
    "Inserting print statement instructs the computer to display the variable x as it goes through the calculation."
   ]
  },
  {
   "cell_type": "code",
   "execution_count": null,
   "metadata": {},
   "outputs": [],
   "source": [
    "x = 2\n",
    "print(x)\n",
    "x = x + 3\n",
    "print(x)\n",
    "x = x + 4\n",
    "print(x)"
   ]
  },
  {
   "cell_type": "markdown",
   "metadata": {},
   "source": [
    "Print statements also allows us to insert variables into a sentence so that it can be displayed"
   ]
  },
  {
   "cell_type": "code",
   "execution_count": null,
   "metadata": {},
   "outputs": [],
   "source": [
    "string_word = 'Knight'\n",
    "string_sentence = \"The quick brown fox jumps over the lazy dog\""
   ]
  },
  {
   "cell_type": "code",
   "execution_count": null,
   "metadata": {},
   "outputs": [],
   "source": [
    "print('A word that starts with K:',string_word)"
   ]
  },
  {
   "cell_type": "markdown",
   "metadata": {},
   "source": [
    "### Simple methods to work with variables"
   ]
  },
  {
   "cell_type": "markdown",
   "metadata": {},
   "source": [
    "Slicing: chopping up strings based on the positions specified in the square brackets"
   ]
  },
  {
   "cell_type": "code",
   "execution_count": null,
   "metadata": {},
   "outputs": [],
   "source": [
    "print(string_word[1:5])\n",
    "print(string_sentence[1:5])"
   ]
  },
  {
   "cell_type": "code",
   "execution_count": null,
   "metadata": {},
   "outputs": [],
   "source": [
    "print(string_sentence[-10:])"
   ]
  },
  {
   "cell_type": "markdown",
   "metadata": {},
   "source": [
    "Splitting a String: splits a string based on the character specified within the parenthesis"
   ]
  },
  {
   "cell_type": "code",
   "execution_count": null,
   "metadata": {},
   "outputs": [],
   "source": [
    "string_sentence.split(' ')"
   ]
  },
  {
   "cell_type": "code",
   "execution_count": null,
   "metadata": {},
   "outputs": [],
   "source": [
    "date = \"2020-09-22\"\n",
    "date.split('-')"
   ]
  },
  {
   "cell_type": "markdown",
   "metadata": {},
   "source": [
    "Working with upper and lower cases"
   ]
  },
  {
   "cell_type": "code",
   "execution_count": null,
   "metadata": {},
   "outputs": [],
   "source": [
    "print(string_sentence.upper())\n",
    "print(string_sentence.lower())"
   ]
  },
  {
   "cell_type": "markdown",
   "metadata": {},
   "source": [
    "More variable examples"
   ]
  },
  {
   "cell_type": "code",
   "execution_count": null,
   "metadata": {},
   "outputs": [],
   "source": [
    "client_1 = \"John Doe\"\n",
    "client_2 = \"Sam Sung\""
   ]
  },
  {
   "cell_type": "code",
   "execution_count": null,
   "metadata": {},
   "outputs": [],
   "source": [
    "print(\"This policy belongs to \" + client_1)\n",
    "print(\"This policy belongs to \" + client_2)"
   ]
  },
  {
   "cell_type": "markdown",
   "metadata": {},
   "source": [
    "String and variable can be combined in a print statement to make a sentence."
   ]
  },
  {
   "cell_type": "code",
   "execution_count": null,
   "metadata": {},
   "outputs": [],
   "source": [
    "claimant = input()\n",
    "print(\"The claim was made by \" + claimant)"
   ]
  },
  {
   "cell_type": "markdown",
   "metadata": {},
   "source": [
    "### Introducing Lists"
   ]
  },
  {
   "cell_type": "markdown",
   "metadata": {},
   "source": [
    "Creating a list"
   ]
  },
  {
   "cell_type": "code",
   "execution_count": null,
   "metadata": {},
   "outputs": [],
   "source": [
    "#list of AXA Health products\n",
    "product_list = ['GHS - GROUP MEDICAL POLICY', '400 - H&S (GREEN)',\n",
    "       '500 - H & S (YELLOW)', '300 - H & S (WHITE-2)',\n",
    "       '301 - H & S (WHITE 2 & CLINICAL)',\n",
    "       '700 - BUDGET PROTECTOR PLAN', 'GSC - SMARTCARE EXECUTIVE',\n",
    "       'GSO - SMARTCARE OPTIMUM', 'GPR - SMARTCARE ENTREPRENEUR (SME)',\n",
    "       'GHE - SMARTCARE ENTREPRENEUR',\n",
    "       'ESC - SMARTCARE EXECUTIVE PRIVATE',\n",
    "       'EOE - SMARTCARE OPTIMUM ENHANCED',\n",
    "       'HAG - INTERNATIONAL EXCLUSIVE-GROUP',\n",
    "       'EPU - SMARTCARE EXECUTIVE PUBLIC', 'UCA - U CARE - MEDISMART',\n",
    "       'HBP - HEALTH CASH PLAN', 'HAP - INTERNATIONAL EXCLUSIVE',\n",
    "       \"HGT - GROUP INT' EXCLUSIVE SME\", 'HOC - IND - OPTIMUM CARE',\n",
    "       'EOC - SMARTCARE OPTIMUM', 'GOC - GROUP - OPTIMUM CARE',\n",
    "       'GPU - SMARTCARE EXECUTIVE-FOREIGN WORKERS',\n",
    "       'GVS - GROUP VSP VISION PLAN', 'HPJ - SMARTCARE JUNIOR',\n",
    "       'NST - NON-STANDARD POLICY', 'FWS - FOREIGN WORKERS SCHEME',\n",
    "       'ECA - SMARTCARE SME PLUS', 'MDL - LOCKTON MEDILOCK SCHEME',\n",
    "       'GIE - GROUP INTERNATIONAL EXCLUSIVE',\n",
    "       'GVS - GROUP OPTICAL SMARTVISION',\n",
    "       'FWN - FOREIGN WORKERS SCHEME (H/C)']"
   ]
  },
  {
   "cell_type": "code",
   "execution_count": null,
   "metadata": {},
   "outputs": [],
   "source": [
    "#list of product codes\n",
    "product_codes = ['GXXX', 'G075', 'G365', 'G091', 'I004', 'G000', 'I005', 'I003',\n",
    "       'GRMB', 'G060', 'G916', 'I007', 'CARE', 'CLIN', 'HOSP', 'DENT',\n",
    "       'ADEP', 'OTHR', 'SPP1', 'ACAS', 'MATX', 'MATN', 'MHC1', 'BONC',\n",
    "       'CANC', 'EVRE', 'OPTI', 'MAJM', 'OVSP', 'GHS1', 'GHS5', 'GCL1',\n",
    "       'GSP1', 'GDE1', 'GCL3', 'GCI1', 'GHS2', 'GCL2', 'GMA1', 'GMM1',\n",
    "       'GHSV', 'GSPV', 'GCLV', 'GDEV', 'GMMV', 'GHSO', 'GCLA', 'GDE3',\n",
    "       'GHS9', 'GSP3', 'GHS3', 'GSP2', 'GCL9', 'GHSI', 'GSP9', 'GMM3',\n",
    "       'GMM2', 'GDE9', 'GMAV', 'GHS6']"
   ]
  },
  {
   "cell_type": "code",
   "execution_count": null,
   "metadata": {},
   "outputs": [],
   "source": [
    "numbers_list = [11, 22, 33, 44, 55, 66, 77, 88, 99, 110]"
   ]
  },
  {
   "cell_type": "markdown",
   "metadata": {},
   "source": [
    "calculating the length of a list (number of items)"
   ]
  },
  {
   "cell_type": "code",
   "execution_count": null,
   "metadata": {
    "scrolled": false
   },
   "outputs": [],
   "source": [
    "len(product_list)"
   ]
  },
  {
   "cell_type": "markdown",
   "metadata": {},
   "source": [
    "performing mathematical operations on a list"
   ]
  },
  {
   "cell_type": "code",
   "execution_count": null,
   "metadata": {
    "scrolled": true
   },
   "outputs": [],
   "source": [
    "#calculating the average\n",
    "sum(numbers_list)/len(numbers_list)"
   ]
  },
  {
   "cell_type": "markdown",
   "metadata": {},
   "source": [
    "### Introducing For Loops"
   ]
  },
  {
   "cell_type": "markdown",
   "metadata": {},
   "source": [
    "For loops are used to call out each individual items on a list"
   ]
  },
  {
   "cell_type": "code",
   "execution_count": null,
   "metadata": {
    "scrolled": true
   },
   "outputs": [],
   "source": [
    "for product in product_list:\n",
    "    print(product[5:].upper())"
   ]
  },
  {
   "cell_type": "code",
   "execution_count": null,
   "metadata": {},
   "outputs": [],
   "source": [
    "numbers_list = []\n",
    "for i in range(1,11):\n",
    "    numbers_list.append(i*11)"
   ]
  },
  {
   "cell_type": "markdown",
   "metadata": {},
   "source": [
    "### Introducing If statements:"
   ]
  },
  {
   "cell_type": "markdown",
   "metadata": {},
   "source": [
    "If statements can be used to check if a variable/number/string meets a certain criteria."
   ]
  },
  {
   "cell_type": "code",
   "execution_count": null,
   "metadata": {},
   "outputs": [],
   "source": [
    "for product in product_list:\n",
    "    if 'SMART' in product:\n",
    "        print(product)"
   ]
  },
  {
   "cell_type": "markdown",
   "metadata": {},
   "source": [
    "### Putting it all together"
   ]
  },
  {
   "cell_type": "markdown",
   "metadata": {},
   "source": [
    "Simple check to indicate if a number provided is even or odd"
   ]
  },
  {
   "cell_type": "code",
   "execution_count": null,
   "metadata": {},
   "outputs": [],
   "source": [
    "num = int(input(\"Enter a number: \"))\n",
    "if (num % 2) == 0:\n",
    "    print(num,\"is Even\")\n",
    "else:\n",
    "    print(num,\"is Odd\")"
   ]
  },
  {
   "cell_type": "code",
   "execution_count": null,
   "metadata": {},
   "outputs": [],
   "source": [
    "#filtering for product codes beginning with GCL\n",
    "GCL_list = []\n",
    "for code in product_codes:\n",
    "    if code[:3]=='GCL':\n",
    "        GCL_list.append(code)\n",
    "    elif code == 'CARE':\n",
    "        GCL_list.append(code)\n",
    "    elif code == 'ADEP':\n",
    "        GCL_list.append(code)\n",
    "    "
   ]
  },
  {
   "cell_type": "code",
   "execution_count": null,
   "metadata": {},
   "outputs": [],
   "source": [
    "GCL_list.sort(reverse = True)"
   ]
  },
  {
   "cell_type": "code",
   "execution_count": null,
   "metadata": {
    "scrolled": false
   },
   "outputs": [],
   "source": [
    "GCL_list"
   ]
  },
  {
   "cell_type": "code",
   "execution_count": null,
   "metadata": {},
   "outputs": [],
   "source": []
  }
 ],
 "metadata": {
  "kernelspec": {
   "display_name": "axa-2005",
   "language": "python",
   "name": "axa-2005"
  },
  "language_info": {
   "codemirror_mode": {
    "name": "ipython",
    "version": 3
   },
   "file_extension": ".py",
   "mimetype": "text/x-python",
   "name": "python",
   "nbconvert_exporter": "python",
   "pygments_lexer": "ipython3",
   "version": "3.7.1"
  }
 },
 "nbformat": 4,
 "nbformat_minor": 4
}
